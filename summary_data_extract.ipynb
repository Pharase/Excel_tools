{
 "cells": [
  {
   "cell_type": "code",
   "execution_count": 1,
   "metadata": {},
   "outputs": [],
   "source": [
    "from os import listdir\n",
    "from os.path import isfile, join\n",
    "import pandas as pd\n",
    "import openpyxl\n",
    "from openpyxl import load_workbook\n",
    "import xlwings\n",
    "import xlwings as xl\n",
    "import win32com.client\n",
    "import time "
   ]
  },
  {
   "cell_type": "code",
   "execution_count": 10,
   "metadata": {},
   "outputs": [],
   "source": [
    "# Get All file names in a folder\n",
    "mypath = r'C:\\Pam_card\\summary'\n",
    "user_text = \"C:\\Pam_card\\summary\\file\\_Data_CutOff_v15.xlsx\"\n",
    "fileslist = [f for f in listdir(mypath) if isfile(join(mypath, f))]\n",
    "xlsx_files = []\n",
    "for file in fileslist:\n",
    "    if file.endswith('.xlsx'):\n",
    "        xlsx_files.append(file)\n",
    "main_df = pd.DataFrame()"
   ]
  },
  {
   "cell_type": "code",
   "execution_count": 11,
   "metadata": {},
   "outputs": [],
   "source": [
    "for file in xlsx_files:\n",
    "    file_path = join(mypath, file)\n",
    "    wb = openpyxl.load_workbook(file_path, data_only = True)\n",
    "    ws = wb['Payment Term History']\n",
    "    ws = wb.active # have it active\n",
    "    ws.cell(1, 1).value = user_text  # Replace the content in A1\n",
    "    df = pd.DataFrame(ws.values)\n",
    "    wb.save(file_path)  # Save the workbook after making changes\n",
    "    wb.close()  # Ensure the workbook is closed after processing"
   ]
  },
  {
   "cell_type": "code",
   "execution_count": 12,
   "metadata": {},
   "outputs": [],
   "source": [
    "# Refresh data\n",
    "for file in xlsx_files:\n",
    "    file_path = join(mypath, file)\n",
    "    xlapp = win32com.client.DispatchEx(\"Excel.Application\")\n",
    "    wb = xlapp.Workbooks.Open(file_path)\n",
    "    wb.RefreshAll()\n",
    "    xlapp.CalculateUntilAsyncQueriesDone()\n",
    "    wb.Save()\n",
    "    wb.Close() \n",
    "    xlapp.Quit()"
   ]
  },
  {
   "cell_type": "code",
   "execution_count": 5,
   "metadata": {},
   "outputs": [],
   "source": [
    "# def df_from_excel(file_path):\n",
    "#     app = xlwings.App(visible=False)\n",
    "#     book = app.books.open(file_path)\n",
    "#     book.save()\n",
    "#     book.close()\n",
    "#     app.kill()\n",
    "#   return pd.read_excel(path)\n",
    "# df = df_from_excel(file_path)"
   ]
  },
  {
   "cell_type": "code",
   "execution_count": 6,
   "metadata": {},
   "outputs": [],
   "source": [
    "# first try\n",
    "for file in xlsx_files:\n",
    "    wb = load_workbook(r\"C:\\Pam_card\\summary\\file\\_Data_CutOff_v15.xlsx\")\n",
    "    ws = wb['DATA']\n",
    "    ws = wb.active\n",
    "    df = pd.DataFrame(ws.values)"
   ]
  },
  {
   "cell_type": "code",
   "execution_count": 13,
   "metadata": {},
   "outputs": [],
   "source": [
    "for file in xlsx_files:\n",
    "    file_path = join(mypath, file)\n",
    "    wb = openpyxl.load_workbook(file_path, data_only=True)\n",
    "    ws = wb['Payment Term History']\n",
    "    try:\n",
    "        df = pd.read_excel(file_path, sheet_name='Payment Term History',  skiprows=4, usecols=lambda x: 'Unnamed: 0' not in x)\n",
    "    except ValueError as e:\n",
    "        continue  \n",
    "    df = df.dropna(subset=['pam_code'])\n",
    "\n",
    "    if 'choose' in df['pam_code'].values:\n",
    "        first_choose_index = df[df['pam_code'] == 'choose'].index[0]\n",
    "        df = df.loc[:first_choose_index - 1]\n",
    "    \n",
    "    main_df = pd.concat([main_df, df], ignore_index=True)\n",
    "main_df.to_excel(join(mypath, 'merge_g.xlsx'), index=False)"
   ]
  },
  {
   "cell_type": "code",
   "execution_count": null,
   "metadata": {},
   "outputs": [],
   "source": []
  }
 ],
 "metadata": {
  "kernelspec": {
   "display_name": "Python 3 (ipykernel)",
   "language": "python",
   "name": "python3"
  },
  "language_info": {
   "codemirror_mode": {
    "name": "ipython",
    "version": 3
   },
   "file_extension": ".py",
   "mimetype": "text/x-python",
   "name": "python",
   "nbconvert_exporter": "python",
   "pygments_lexer": "ipython3",
   "version": "3.11.8"
  }
 },
 "nbformat": 4,
 "nbformat_minor": 4
}
