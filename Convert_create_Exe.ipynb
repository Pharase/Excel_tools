{
 "cells": [
  {
   "cell_type": "code",
   "execution_count": 1,
   "id": "b012f2f5-35f2-499b-b758-3757cc0c298c",
   "metadata": {},
   "outputs": [],
   "source": [
    "from nbconvert import PythonExporter\n",
    "\n",
    "def notebook_to_python(input_file, output_file):\n",
    "    with open(input_file, 'r', encoding='utf-8') as nb_file:\n",
    "        exporter = PythonExporter()\n",
    "        python_code, _ = exporter.from_file(nb_file)\n",
    "    \n",
    "    with open(output_file, 'w', encoding='utf-8') as py_file:\n",
    "        py_file.write(python_code)\n",
    "\n",
    "# Usage\n",
    "input_notebook = r\"C:\\Users\\Paramut.c\\ExtractTextfromPDF.ipynb\"\n",
    "output_script = r\"C:\\Users\\Paramut.c\\ExtractTextfromPDF.py\"\n",
    "notebook_to_python(input_notebook, output_script)\n",
    "\n",
    "#Compile to exe using Mini-Conda\n",
    "#jupyter nbconvert --to script ExtractTextfromPDF.ipynb\n",
    "#pyinstaller --onefile --noconsole --upx-dir=C:\\Users\\Paramut.c\\upx-4.2.4-win64\\upx.exe ExtractTextfromPDF.py"
   ]
  },
  {
   "cell_type": "code",
   "execution_count": null,
   "id": "de932979-1bb9-474a-ac5e-7eabff10c3c2",
   "metadata": {},
   "outputs": [],
   "source": []
  }
 ],
 "metadata": {
  "kernelspec": {
   "display_name": "Python 3 (ipykernel)",
   "language": "python",
   "name": "python3"
  },
  "language_info": {
   "codemirror_mode": {
    "name": "ipython",
    "version": 3
   },
   "file_extension": ".py",
   "mimetype": "text/x-python",
   "name": "python",
   "nbconvert_exporter": "python",
   "pygments_lexer": "ipython3",
   "version": "3.11.8"
  }
 },
 "nbformat": 4,
 "nbformat_minor": 5
}
